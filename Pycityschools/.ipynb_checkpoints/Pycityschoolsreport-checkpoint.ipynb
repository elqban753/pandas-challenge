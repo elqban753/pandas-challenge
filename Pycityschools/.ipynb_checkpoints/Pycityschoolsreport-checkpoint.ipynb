{
 "cells": [
  {
   "cell_type": "code",
   "execution_count": 1,
   "id": "75746979",
   "metadata": {},
   "outputs": [],
   "source": [
    "import pandas as pd\n",
    "\n",
    "student_data_to_load = \"dataset/students_complete.csv\"\n",
    "school_data_to_load = \"dataset/schools_complete.csv\"\n",
    "\n",
    "student_data = pd.read_csv(student_data_to_load)\n",
    "school_data = pd.read_csv(school_data_to_load)\n",
    "\n",
    "school_data_complete=pd.merge(student_data, school_data, how=\"left\", on=[\"school_name\", \"school_name\"])"
   ]
  },
  {
   "cell_type": "code",
   "execution_count": 2,
   "id": "768a13c7",
   "metadata": {},
   "outputs": [],
   "source": [
    "school_count = len(school_data_complete[\"school_name\"].unique())\n",
    "student_count = school_data_complete[\"Student ID\"].count()\n",
    "total_budget = school_data[\"budget\"].sum()"
   ]
  },
  {
   "cell_type": "code",
   "execution_count": 3,
   "id": "69594e0b",
   "metadata": {},
   "outputs": [],
   "source": [
    "average_math_score = school_data_complete[\"math_score\"].mean()\n",
    "average_reading_score = school_data_complete[\"reading_score\"].mean()"
   ]
  },
  {
   "cell_type": "code",
   "execution_count": 4,
   "id": "25ed3c8e",
   "metadata": {},
   "outputs": [],
   "source": [
    "passing_math_count = school_data_complete[(school_data_complete[\"math_score\"] >=70)].count()[\"student_name\"]\n",
    "passing_math_percentage = (passing_math_count / float(student_count)) * 100\n",
    "passing_reading_count = school_data_complete[(school_data_complete[\"reading_score\"] >= 70)].count()[\"student_name\"]\n",
    "passing_reading_percentage = passing_reading_count / float(student_count) * 100\n",
    "\n",
    "passing_math_reading_count = school_data_complete[(school_data_complete[\"math_score\"] >= 70) \n",
    "                                                  & (school_data_complete[\"reading_score\"] >= 70)].count()[\"student_name\"]\n",
    "\n",
    "overall_passing_rate = passing_math_reading_count /  float(student_count) * 100\n"
   ]
  },
  {
   "cell_type": "code",
   "execution_count": 5,
   "id": "2a06c9e4",
   "metadata": {},
   "outputs": [
    {
     "data": {
      "text/html": [
       "<div>\n",
       "<style scoped>\n",
       "    .dataframe tbody tr th:only-of-type {\n",
       "        vertical-align: middle;\n",
       "    }\n",
       "\n",
       "    .dataframe tbody tr th {\n",
       "        vertical-align: top;\n",
       "    }\n",
       "\n",
       "    .dataframe thead th {\n",
       "        text-align: right;\n",
       "    }\n",
       "</style>\n",
       "<table border=\"1\" class=\"dataframe\">\n",
       "  <thead>\n",
       "    <tr style=\"text-align: right;\">\n",
       "      <th></th>\n",
       "      <th>Total Schools</th>\n",
       "      <th>Total Students</th>\n",
       "      <th>Total Budget</th>\n",
       "      <th>Average Math Score</th>\n",
       "      <th>Average Reading Score</th>\n",
       "      <th>% Passing Math</th>\n",
       "      <th>% Passing Reading</th>\n",
       "      <th>% Overall Passing</th>\n",
       "    </tr>\n",
       "  </thead>\n",
       "  <tbody>\n",
       "    <tr>\n",
       "      <th>0</th>\n",
       "      <td>15</td>\n",
       "      <td>39,170</td>\n",
       "      <td>$24,649,428.00</td>\n",
       "      <td>78.985371</td>\n",
       "      <td>81.87784</td>\n",
       "      <td>74.980853</td>\n",
       "      <td>85.805463</td>\n",
       "      <td>65.172326</td>\n",
       "    </tr>\n",
       "  </tbody>\n",
       "</table>\n",
       "</div>"
      ],
      "text/plain": [
       "   Total Schools Total Students    Total Budget  Average Math Score  \\\n",
       "0             15         39,170  $24,649,428.00           78.985371   \n",
       "\n",
       "   Average Reading Score  % Passing Math  % Passing Reading  % Overall Passing  \n",
       "0               81.87784       74.980853          85.805463          65.172326  "
      ]
     },
     "execution_count": 5,
     "metadata": {},
     "output_type": "execute_result"
    }
   ],
   "source": [
    "# Minor Data Cleanup\n",
    "district_summary = pd.DataFrame({\"Total Schools\": [school_count], \n",
    "                                 \"Total Students\": [student_count], \n",
    "                                 \"Total Budget\": [total_budget],\n",
    "                                 \"Average Math Score\": [average_math_score], \n",
    "                                 \"Average Reading Score\": [average_reading_score],\n",
    "                                 \"% Passing Math\": [passing_math_percentage],\n",
    "                                 \"% Passing Reading\": [passing_reading_percentage],\n",
    "                                 \"% Overall Passing\": [overall_passing_rate]})\n",
    "\n",
    "district_summary = district_summary[[\"Total Schools\", \"Total Students\", \"Total Budget\",\n",
    "                                     \"Average Math Score\", \n",
    "                                     \"Average Reading Score\",\n",
    "                                     \"% Passing Math\",\n",
    "                                     \"% Passing Reading\",\n",
    "                                     \"% Overall Passing\"]]\n",
    "\n",
    "# Formatting\n",
    "district_summary[\"Total Students\"] = district_summary[\"Total Students\"].map(\"{:,}\".format)\n",
    "district_summary[\"Total Budget\"] = district_summary[\"Total Budget\"].map(\"${:,.2f}\".format)\n",
    "\n",
    "# Display the DataFrame\n",
    "district_summary"
   ]
  },
  {
   "cell_type": "code",
   "execution_count": null,
   "id": "09cdf2cd",
   "metadata": {},
   "outputs": [],
   "source": []
  }
 ],
 "metadata": {
  "kernelspec": {
   "display_name": "Python 3 (ipykernel)",
   "language": "python",
   "name": "python3"
  },
  "language_info": {
   "codemirror_mode": {
    "name": "ipython",
    "version": 3
   },
   "file_extension": ".py",
   "mimetype": "text/x-python",
   "name": "python",
   "nbconvert_exporter": "python",
   "pygments_lexer": "ipython3",
   "version": "3.9.12"
  }
 },
 "nbformat": 4,
 "nbformat_minor": 5
}
